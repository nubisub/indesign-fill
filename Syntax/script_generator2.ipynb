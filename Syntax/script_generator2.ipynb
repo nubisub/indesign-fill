{
 "cells": [
  {
   "cell_type": "code",
   "execution_count": 2,
   "metadata": {},
   "outputs": [
    {
     "name": "stdout",
     "output_type": "stream",
     "text": [
      "    No    Kecamatan                                              Judul  \\\n",
      "0    1      Moyudan  Hasil Pencacahan Lengkap Sensus Pertanian 2023...   \n",
      "1    2      Minggir  Hasil Pencacahan Lengkap Sensus Pertanian 2023...   \n",
      "2    3      Seyegan  Hasil Pencacahan Lengkap Sensus Pertanian 2023...   \n",
      "3    4       Godean  Hasil Pencacahan Lengkap Sensus Pertanian 2023...   \n",
      "4    5      Gamping  Hasil Pencacahan Lengkap Sensus Pertanian 2023...   \n",
      "5    6        Mlati  Hasil Pencacahan Lengkap Sensus Pertanian 2023...   \n",
      "6    7        Depok  Hasil Pencacahan Lengkap Sensus Pertanian 2023...   \n",
      "7    8       Berbah  Hasil Pencacahan Lengkap Sensus Pertanian 2023...   \n",
      "8    9    Prambanan  Hasil Pencacahan Lengkap Sensus Pertanian 2023...   \n",
      "9   10      Kalasan  Hasil Pencacahan Lengkap Sensus Pertanian 2023...   \n",
      "10  11     Ngemplak  Hasil Pencacahan Lengkap Sensus Pertanian 2023...   \n",
      "11  12      Ngaglik  Hasil Pencacahan Lengkap Sensus Pertanian 2023...   \n",
      "12  13       Sleman  Hasil Pencacahan Lengkap Sensus Pertanian 2023...   \n",
      "13  14       Tempel  Hasil Pencacahan Lengkap Sensus Pertanian 2023...   \n",
      "14  15         Turi  Hasil Pencacahan Lengkap Sensus Pertanian 2023...   \n",
      "15  16        Pakem  Hasil Pencacahan Lengkap Sensus Pertanian 2023...   \n",
      "16  17  Cangkringan  Hasil Pencacahan Lengkap Sensus Pertanian 2023...   \n",
      "\n",
      "                                      Judul (english)       No Katalog  \\\n",
      "0   Complete Enumeration Results of the 2023 Censu...  5106045.3404010   \n",
      "1   Complete Enumeration Results of the 2023 Censu...  5106045.3404020   \n",
      "2   Complete Enumeration Results of the 2023 Censu...  5106045.3404030   \n",
      "3   Complete Enumeration Results of the 2023 Censu...  5106045.3404040   \n",
      "4   Complete Enumeration Results of the 2023 Censu...  5106045.3404050   \n",
      "5   Complete Enumeration Results of the 2023 Censu...  5106045.3404060   \n",
      "6   Complete Enumeration Results of the 2023 Censu...  5106045.3404070   \n",
      "7   Complete Enumeration Results of the 2023 Censu...  5106045.3404080   \n",
      "8   Complete Enumeration Results of the 2023 Censu...  5106045.3404090   \n",
      "9   Complete Enumeration Results of the 2023 Censu...  5106045.3404100   \n",
      "10  Complete Enumeration Results of the 2023 Censu...  5106045.3404110   \n",
      "11  Complete Enumeration Results of the 2023 Censu...  5106045.3404120   \n",
      "12  Complete Enumeration Results of the 2023 Censu...  5106045.3404130   \n",
      "13  Complete Enumeration Results of the 2023 Censu...  5106045.3404140   \n",
      "14  Complete Enumeration Results of the 2023 Censu...  5106045.3404150   \n",
      "15  Complete Enumeration Results of the 2023 Censu...  5106045.3404160   \n",
      "16  Complete Enumeration Results of the 2023 Censu...  5106045.3404170   \n",
      "\n",
      "    No Publikasi  \n",
      "0    34040.24029  \n",
      "1    34040.24030  \n",
      "2    34040.24031  \n",
      "3    34040.24032  \n",
      "4    34040.24033  \n",
      "5    34040.24034  \n",
      "6    34040.24035  \n",
      "7    34040.24036  \n",
      "8    34040.24037  \n",
      "9    34040.24038  \n",
      "10   34040.24039  \n",
      "11   34040.24040  \n",
      "12   34040.24041  \n",
      "13   34040.24042  \n",
      "14   34040.24043  \n",
      "15   34040.24044  \n",
      "16   34040.24045  \n"
     ]
    }
   ],
   "source": [
    "import pandas as pd\n",
    "\n",
    "# Tentukan nama kolom yang ingin dibaca sebagai string\n",
    "df = pd.read_excel('nomor_publikasi.xlsx', dtype={'No Katalog': str, 'No Publikasi': str})\n",
    "\n",
    "print(df)\n"
   ]
  },
  {
   "cell_type": "code",
   "execution_count": 3,
   "metadata": {},
   "outputs": [],
   "source": [
    "code_template = '''\n",
    "Main();\n",
    "\n",
    "function Main() {\n",
    "\tapp.findTextPreferences = NothingEnum.NOTHING;\n",
    "\tapp.changeTextPreferences = NothingEnum.NOTHING;\n",
    "\n",
    "\t// Melakukan penggantian teks untuk setiap pasangan find/replace\n",
    "\tapp.findTextPreferences.findWhat = \"no_katalog\";\n",
    "\tapp.changeTextPreferences.changeTo = \"no_katalog_replace\";\n",
    "\tdocument.changeText();\n",
    "\n",
    "    app.findTextPreferences.findWhat = \"nama_kecamatan\";\n",
    "    app.changeTextPreferences.changeTo = \"nama_kecamatan_replace\";\n",
    "    document.changeText();\n",
    "\n",
    "    app.findTextPreferences.findWhat = \"no_publikasi\";\n",
    "    app.changeTextPreferences.changeTo = \"no_publikasi_replace\";\n",
    "    document.changeText();\n",
    "\n",
    "\t// Menghapus preferensi pencarian dan penggantian setelah selesai\n",
    "\tapp.findTextPreferences = NothingEnum.NOTHING;\n",
    "\tapp.changeTextPreferences = NothingEnum.NOTHING;\n",
    "\n",
    "\t\n",
    "}\n",
    "\n",
    "alert(\"Selesai.\");\n",
    "\n",
    "\n",
    "'''"
   ]
  },
  {
   "cell_type": "code",
   "execution_count": 4,
   "metadata": {},
   "outputs": [],
   "source": [
    "code_template = code_template.replace(\"{\", \"{{\").replace(\"}\", \"}}\")\n",
    "code_template = code_template.replace(\"\\r\", \"\\\\r\")\n",
    "code_template = code_template.replace(\"nama_kecamatan_replace\", \"{nama_kecamatan_replace}\")\n",
    "code_template = code_template.replace(\"no_katalog_replace\", \"{no_katalog_replace}\")\n",
    "code_template = code_template.replace(\"no_publikasi_replace\", \"{no_publikasi_replace}\")"
   ]
  },
  {
   "cell_type": "code",
   "execution_count": 5,
   "metadata": {},
   "outputs": [],
   "source": [
    "data = pd.DataFrame()\n",
    "data[\"nama_kecamatan_replace\"] = df['Kecamatan']\n",
    "data[\"no_katalog_replace\"] = df['No Katalog']\n",
    "data[\"no_publikasi_replace\"] = df['No Publikasi']\n",
    "# change no_katalog and no_publikasi to string\n",
    "data[\"no_katalog_replace\"] = data[\"no_katalog_replace\"].astype(str)\n",
    "data[\"no_publikasi_replace\"] = data[\"no_publikasi_replace\"].astype(str)"
   ]
  },
  {
   "cell_type": "code",
   "execution_count": 6,
   "metadata": {},
   "outputs": [
    {
     "name": "stdout",
     "output_type": "stream",
     "text": [
      "File script_haldepan/haldepan_Moyudan.jsx created.\n",
      "File script_haldepan/haldepan_Minggir.jsx created.\n",
      "File script_haldepan/haldepan_Seyegan.jsx created.\n",
      "File script_haldepan/haldepan_Godean.jsx created.\n",
      "File script_haldepan/haldepan_Gamping.jsx created.\n",
      "File script_haldepan/haldepan_Mlati.jsx created.\n",
      "File script_haldepan/haldepan_Depok.jsx created.\n",
      "File script_haldepan/haldepan_Berbah.jsx created.\n",
      "File script_haldepan/haldepan_Prambanan.jsx created.\n",
      "File script_haldepan/haldepan_Kalasan.jsx created.\n",
      "File script_haldepan/haldepan_Ngemplak.jsx created.\n",
      "File script_haldepan/haldepan_Ngaglik.jsx created.\n",
      "File script_haldepan/haldepan_Sleman.jsx created.\n",
      "File script_haldepan/haldepan_Tempel.jsx created.\n",
      "File script_haldepan/haldepan_Turi.jsx created.\n",
      "File script_haldepan/haldepan_Pakem.jsx created.\n",
      "File script_haldepan/haldepan_Cangkringan.jsx created.\n"
     ]
    }
   ],
   "source": [
    "for nama_kecamatan_replace, no_katalog_replace, no_publikasi_replace in zip(data[\"nama_kecamatan_replace\"], data[\"no_katalog_replace\"], data[\"no_publikasi_replace\"]):\n",
    "        file_name = f\"script_haldepan/haldepan_{nama_kecamatan_replace}.jsx\"\n",
    "        with open(file_name, \"w\") as f:\n",
    "            f.write(code_template.replace(\"{nama_kecamatan_replace}\", nama_kecamatan_replace).replace(\"{no_katalog_replace}\", no_katalog_replace).replace(\"{no_publikasi_replace}\", no_publikasi_replace))\n",
    "        print(f\"File {file_name} created.\")\n",
    "        \n",
    "        "
   ]
  }
 ],
 "metadata": {
  "kernelspec": {
   "display_name": "Python 3",
   "language": "python",
   "name": "python3"
  },
  "language_info": {
   "codemirror_mode": {
    "name": "ipython",
    "version": 3
   },
   "file_extension": ".py",
   "mimetype": "text/x-python",
   "name": "python",
   "nbconvert_exporter": "python",
   "pygments_lexer": "ipython3",
   "version": "3.11.1"
  }
 },
 "nbformat": 4,
 "nbformat_minor": 2
}

{
 "cells": [
  {
   "cell_type": "code",
   "execution_count": 1,
   "metadata": {},
   "outputs": [],
   "source": [
    "import pathlib\n",
    "from concurrent.futures import ThreadPoolExecutor\n",
    "import pandas as pd\n",
    "from typing import List"
   ]
  },
  {
   "cell_type": "code",
   "execution_count": 2,
   "metadata": {},
   "outputs": [],
   "source": [
    "def filter_kab(path: pathlib.Path, output_dir: pathlib.Path) -> None:\n",
    "    try:\n",
    "        # Read both sheets at once to minimize I/O operations\n",
    "        df_dict = pd.read_excel(path, sheet_name=[0, 1])\n",
    "        df1 = df_dict[0]\n",
    "        df2 = df_dict[1]\n",
    "\n",
    "        # Filter DataFrames\n",
    "        df1 = df1[df1['kab'] == 3404]\n",
    "        df2 = df2[df2['kab'] == 3404]\n",
    "\n",
    "        # Create output path\n",
    "        output_path = output_dir / path.parent.name / path.name\n",
    "        output_path.parent.mkdir(parents=True, exist_ok=True)\n",
    "\n",
    "        with pd.ExcelWriter(output_path, engine='xlsxwriter') as writer:\n",
    "            df1.to_excel(writer, sheet_name='Kecamatan', index=False)\n",
    "            df2.to_excel(writer, sheet_name='Desa', index=False)\n",
    "        print(f'Finished processing {path}')\n",
    "    except Exception as e:\n",
    "        print(f'Error processing {path}: {e}')"
   ]
  },
  {
   "cell_type": "code",
   "execution_count": 6,
   "metadata": {},
   "outputs": [
    {
     "name": "stdout",
     "output_type": "stream",
     "text": [
      "Finished processing in\\Bab 1\\Nasional_Tabulasi_UTP_BAB_0_tabel_0_H1.xlsx\n"
     ]
    }
   ],
   "source": [
    "def process_files(paths: List[pathlib.Path], output_dir: pathlib.Path, max_workers: int = 8) -> None:\n",
    "    with ThreadPoolExecutor(max_workers=max_workers) as executor:\n",
    "        futures = [executor.submit(filter_kab, path, output_dir) for path in paths]\n",
    "        for future in futures:\n",
    "            future.result()\n",
    "\n",
    "if __name__ == \"__main__\":\n",
    "    bab_folders = ['Bab 1', 'Bab 2', 'Bab 3', 'Bab 4', 'Bab 5', 'Bab 6', 'Bab 7', 'Bab 8', 'Bab 9', 'Bab 10']\n",
    "    data_dir = pathlib.Path('in')\n",
    "    output_dir = pathlib.Path('out')\n",
    "\n",
    "    for bab in bab_folders:\n",
    "        folder_path = data_dir / bab\n",
    "        files = list(folder_path.glob('*.xlsx'))\n",
    "        process_files(files, output_dir, max_workers=16)"
   ]
  }
 ],
 "metadata": {
  "kernelspec": {
   "display_name": "Python 3",
   "language": "python",
   "name": "python3"
  },
  "language_info": {
   "codemirror_mode": {
    "name": "ipython",
    "version": 3
   },
   "file_extension": ".py",
   "mimetype": "text/x-python",
   "name": "python",
   "nbconvert_exporter": "python",
   "pygments_lexer": "ipython3",
   "version": "3.11.1"
  }
 },
 "nbformat": 4,
 "nbformat_minor": 2
}

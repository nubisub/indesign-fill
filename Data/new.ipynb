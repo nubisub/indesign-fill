{
 "cells": [
  {
   "cell_type": "code",
   "execution_count": 1,
   "metadata": {},
   "outputs": [],
   "source": [
    "import pandas as pd"
   ]
  },
  {
   "cell_type": "code",
   "execution_count": 2,
   "metadata": {},
   "outputs": [],
   "source": [
    "import pandas as pd\n",
    "\n",
    "# Path to the Excel file\n",
    "path = 'in\\\\Bab 2\\\\Nasional_Tabulasi_UTP_BAB_0_tabel_0_H1.xlsx'\n",
    "\n",
    "excel_file = pd.ExcelFile(path)\n",
    "sheet_names = excel_file.sheet_names\n",
    "\n",
    "# Find the sheets that include 'kec' and 'desa'\n",
    "nama_sheet_kec = next(sheet for sheet in sheet_names if 'kec' in sheet.lower())\n",
    "nama_sheet_desa = next(sheet for sheet in sheet_names if 'desa' in sheet.lower())\n",
    "\n",
    "# Read the specified sheets\n",
    "df1 = pd.read_excel(excel_file, sheet_name=nama_sheet_kec)\n",
    "df2 = pd.read_excel(excel_file, sheet_name=nama_sheet_desa)"
   ]
  },
  {
   "cell_type": "code",
   "execution_count": 40,
   "metadata": {},
   "outputs": [
    {
     "data": {
      "text/plain": [
       "(86, 19)"
      ]
     },
     "execution_count": 40,
     "metadata": {},
     "output_type": "execute_result"
    }
   ],
   "source": [
    "filtered_df = combined_df[combined_df['kab'] == 3404]\n",
    "filtered_df.shape"
   ]
  },
  {
   "cell_type": "code",
   "execution_count": 28,
   "metadata": {},
   "outputs": [
    {
     "ename": "KeyError",
     "evalue": "'kab'",
     "output_type": "error",
     "traceback": [
      "\u001b[1;31m---------------------------------------------------------------------------\u001b[0m",
      "\u001b[1;31mKeyError\u001b[0m                                  Traceback (most recent call last)",
      "Cell \u001b[1;32mIn[28], line 2\u001b[0m\n\u001b[0;32m      1\u001b[0m \u001b[38;5;66;03m# filter kab column == 3404\u001b[39;00m\n\u001b[1;32m----> 2\u001b[0m data \u001b[38;5;241m=\u001b[39m data[\u001b[43mdata\u001b[49m\u001b[43m[\u001b[49m\u001b[38;5;124;43m'\u001b[39;49m\u001b[38;5;124;43mkab\u001b[39;49m\u001b[38;5;124;43m'\u001b[39;49m\u001b[43m]\u001b[49m \u001b[38;5;241m==\u001b[39m \u001b[38;5;241m3404\u001b[39m]\n",
      "\u001b[1;31mKeyError\u001b[0m: 'kab'"
     ]
    }
   ],
   "source": [
    "# filter kab column == 3404\n",
    "data = data[data['kab'] == 3404]"
   ]
  },
  {
   "cell_type": "code",
   "execution_count": null,
   "metadata": {},
   "outputs": [],
   "source": []
  }
 ],
 "metadata": {
  "kernelspec": {
   "display_name": "Python 3",
   "language": "python",
   "name": "python3"
  },
  "language_info": {
   "codemirror_mode": {
    "name": "ipython",
    "version": 3
   },
   "file_extension": ".py",
   "mimetype": "text/x-python",
   "name": "python",
   "nbconvert_exporter": "python",
   "pygments_lexer": "ipython3",
   "version": "3.11.1"
  }
 },
 "nbformat": 4,
 "nbformat_minor": 2
}
